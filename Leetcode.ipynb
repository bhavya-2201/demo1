{
 "cells": [
  {
   "cell_type": "code",
   "execution_count": 21,
   "id": "d60dbc12",
   "metadata": {},
   "outputs": [
    {
     "name": "stdout",
     "output_type": "stream",
     "text": [
      "1\n",
      "-1\n",
      "2\n",
      "-1\n",
      "2\n",
      "1\n",
      "2\n",
      "1\n",
      "3\n",
      "1\n",
      "3\n",
      "2\n"
     ]
    }
   ],
   "source": [
    "s=\"pwwkew\"\n",
    "output = 0\n",
    "count = {}\n",
    "pos = -1\n",
    "for index, letter in enumerate(s):\n",
    "    if letter in count and count[letter] > pos:\n",
    "        pos = count[letter]\n",
    "    count[letter] = index \n",
    "    output = max(output,index-pos)\n",
    "    print(output)\n",
    "    print(pos)"
   ]
  },
  {
   "cell_type": "code",
   "execution_count": 19,
   "id": "0a62ea32",
   "metadata": {},
   "outputs": [
    {
     "data": {
      "text/plain": [
       "3"
      ]
     },
     "execution_count": 19,
     "metadata": {},
     "output_type": "execute_result"
    }
   ],
   "source": [
    "output"
   ]
  },
  {
   "cell_type": "code",
   "execution_count": 12,
   "id": "abe91ebd",
   "metadata": {},
   "outputs": [
    {
     "name": "stdout",
     "output_type": "stream",
     "text": [
      "0 p\n",
      "1 w\n",
      "2 w\n",
      "3 k\n",
      "4 e\n",
      "5 w\n"
     ]
    }
   ],
   "source": [
    "pos=-1\n",
    "output=0\n",
    "\n",
    "first iter\n",
    "pos=-1\n",
    "count={\"p\":0}\n",
    "output=1\n",
    "\n",
    "second iter\n",
    "pos=-1\n",
    "count={\"p\":0,\"w\":1}\n",
    "output=2\n",
    "\n",
    "third iter\n",
    "pos=1\n",
    "count={\"p\":0,\"w\":2}\n",
    "output=2\n"
   ]
  },
  {
   "cell_type": "code",
   "execution_count": null,
   "id": "42050ecb",
   "metadata": {},
   "outputs": [],
   "source": []
  },
  {
   "cell_type": "code",
   "execution_count": 16,
   "id": "e06cdad7",
   "metadata": {},
   "outputs": [
    {
     "name": "stdout",
     "output_type": "stream",
     "text": [
      "yo\n"
     ]
    }
   ],
   "source": []
  },
  {
   "cell_type": "code",
   "execution_count": 11,
   "id": "295e660c",
   "metadata": {},
   "outputs": [],
   "source": []
  },
  {
   "cell_type": "code",
   "execution_count": null,
   "id": "ac562a86",
   "metadata": {},
   "outputs": [],
   "source": []
  },
  {
   "cell_type": "code",
   "execution_count": null,
   "id": "3457cd95",
   "metadata": {},
   "outputs": [],
   "source": []
  }
 ],
 "metadata": {
  "kernelspec": {
   "display_name": "Python 3",
   "language": "python",
   "name": "python3"
  },
  "language_info": {
   "codemirror_mode": {
    "name": "ipython",
    "version": 3
   },
   "file_extension": ".py",
   "mimetype": "text/x-python",
   "name": "python",
   "nbconvert_exporter": "python",
   "pygments_lexer": "ipython3",
   "version": "3.6.13"
  }
 },
 "nbformat": 4,
 "nbformat_minor": 5
}
